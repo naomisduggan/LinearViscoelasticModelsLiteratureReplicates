{
 "cells": [
  {
   "cell_type": "code",
   "execution_count": 1,
   "metadata": {},
   "outputs": [],
   "source": [
    "#Import modules \n",
    "import pandas as pd\n",
    "import matplotlib.pyplot as plt\n",
    "import numpy as np\n",
    "import math "
   ]
  },
  {
   "cell_type": "markdown",
   "metadata": {},
   "source": [
    "#### The hidden hierarchical nature of soft and particulate gels \n",
    "\n",
    "\n",
    "The modified fractional Kelvin-Voigt model described in this paper is described by the complex moduli: \n",
    "\n",
    "$$G^{*} = G_{0} (1+ (i \\omega \\tau) \\frac{1}{1+(i \\omega \\tau_{l})^{1-\\alpha}},$$\n",
    "\n",
    "where $\\tau=\\eta/G_{0}$ is the relaxation time and $\\tau_{l} = (\\eta/V)^{1/1-\\alpha}$ is the cut-off timescale that captures the transition from faster power-law relaxation modes to a slower single-relaxation terminal mode. \n",
    "\n",
    "Given that $G^{*} = G' + iG''$, we find that the storage and loss modulus are given by: \n",
    "\n",
    "$$G' = G_{0} + \\frac{(G_{0} \\omega \\tau)( \\omega \\tau + \\omega^{1-\\alpha} \\tau_{l}^{1-\\alpha} (-1)^{-\\alpha} + \\omega^{-\\alpha} \\tau_{l}^{-\\alpha} sin(\\frac{-\\alpha \\pi}{2}))}{1-(\\omega \\tau_{l})^{2(1-\\alpha)}},$$\n",
    "\n",
    "$$G'' = \\frac{(G_{0} \\omega \\tau) (1- \\omega^{-\\alpha} \\tau_{l}^{- \\alpha}cos(\\frac{-\\alpha \\pi}{2}))}{1-(\\omega \\tau_{l})^{2(1-\\alpha)}},$$\n",
    "\n",
    "with $\\tau = \\frac{\\eta}{G}$, $\\tau_{l} = (\\frac{\\eta}{V})^(\\frac{1}{1-\\alpha})$, $G_{0} = \\frac{\\tilde{E}_{0}}{n^{2\\alpha}}$, $\\eta= n^{2-2\\alpha} \\tilde{\\eta}_{0}$, $V= \\tilde{E}_{0} (\\frac{\\tilde{\\eta}_{0}}{\\tilde{E}_{0}})^{\\alpha}.$\n",
    "\n",
    "https://www.nature.com/articles/s41567-023-01988-7#Sec17"
   ]
  },
  {
   "cell_type": "code",
   "execution_count": 27,
   "metadata": {},
   "outputs": [],
   "source": [
    "def storage(w, E0, eta0, a, n): \n",
    "    V = E0 * ((eta0 / E0) ** a)\n",
    "    eta = (n ** (2 - (2 * a))) * eta0\n",
    "    G0 = E0 / (n ** (2 * a))\n",
    "    tl = (eta / V) * (1 / (1 - a))\n",
    "    t = eta / G0\n",
    "    \n",
    "    num = (G0 * w * t) * ((w * t) + ((w ** (1 - a)) * (tl ** (1 - a)) * ((-1) ** (-a))) + ((w ** (-a)) * (tl ** (-a)) * math.sin((-a * math.pi) / 2)))\n",
    "    den = 1 - ((w * tl) ** (2 * (1 - a)))\n",
    "    \n",
    "    sln = G0 + (num / den)\n",
    "    return sln\n",
    "\n",
    "def loss(w, eta0, E0, t, a): \n",
    "    V = E0 * ((eta0 / E0) ** a)\n",
    "    eta = (n ** (2 - (2 * a))) * eta0\n",
    "    G0 = E0 / (n ** (2 * a))\n",
    "    tl = (eta / V) * (1 / (1 - a))\n",
    "    t = eta / G0\n",
    "    \n",
    "    num = (G0 * w * t) * (1 - ((w ** (-a)) * (tl ** (-a)) * math.cos((-a * math.pi) / 2)))\n",
    "    den = 1 - ((w * tl) ** (2 * (1 - a)))\n",
    "    \n",
    "    sln = G0 + (num / den)\n",
    "    return sln"
   ]
  },
  {
   "cell_type": "markdown",
   "metadata": {},
   "source": [
    "#### Fractal ladder models and power law wave equations \n",
    "In fractal ladder models and power law wave equations (Kelly and McGough), a fractal ladder model is graphed with the assumption that all spring have the same stiffness $G$ and dashpots have the same viscosity $\\eta$. As it is described in the notes, we begin with the transfer function $\\hat{g}(s)$, from which we perform a binomial and low-frequency approximation to obtain a stress-strain relationship. A dynamic transformation results in the the complex moduli given by: \n",
    "\n",
    "$$G^{*} = \\frac{\\sigma_{0}^{*}}{\\epsilon_{0}^{*}} = \\frac{4}{3} \\sqrt{\\eta G_{0}}(i \\omega)^{1/2},$$\n",
    "\n",
    "which then gives the following loss and storage modulus, respectively: \n",
    "\n",
    "$$G' = \\frac{4}{3} \\frac{1}{\\sqrt{2}} \\sqrt{\\eta G_{0} \\omega}$$\n",
    "$$G'' = \\frac{4}{3} \\frac{1}{\\sqrt{2}} \\sqrt{\\eta G_{0} \\omega}$$\n",
    "\n",
    "If one were to replace the dashpot by a fractal ladder yields a stress-strain relationship: \n",
    "\n",
    "$$\\sigma = \\frac{4}{3} \\eta^{\\beta} E^{1- \\beta} \\frac{\\partial^{\\beta} \\epsilon}{\\partial t^{\\beta}},$$\n",
    "\n",
    "with $\\beta = \\frac{1}{2} (1- \\frac{1}{2^{M}} + \\frac{1}{2^{N}})$. \n",
    "\n",
    "\n",
    "Source: https://www.ncbi.nlm.nih.gov/pmc/articles/PMC2771060/"
   ]
  },
  {
   "cell_type": "code",
   "execution_count": 28,
   "metadata": {},
   "outputs": [],
   "source": [
    "def storage(w, eta, G0): \n",
    "    sln = (4/3) * (1 / math.sqrt(s)) * (math.sqrt(eta * G0 * w))\n",
    "    return sln\n",
    "\n",
    "def loss(w, eta, G0): \n",
    "    sln = (4/3) * (1 / math.sqrt(s)) * (math.sqrt(eta * G0 * w))\n",
    "    return sln"
   ]
  },
  {
   "cell_type": "markdown",
   "metadata": {},
   "source": [
    "#### Computing the linear viscoelastic properties of soft gels using an optimal windowed chirp protocol\n",
    "\n",
    "We can compute the storage and loss modulus from this equation, given by: \n",
    "\n",
    "$$G'(\\omega) = G_{0} (1- (\\frac{\\omega}{\\omega_{n}})^{2} + (\\frac{\\omega}{\\omega_{n}})^{\\alpha} \\xi cos(\\alpha \\frac{\\pi}{2}),$$\n",
    "\n",
    "$$G''(\\omega) = G_{0} ((\\frac{\\omega}{\\omega_{n}})^{\\alpha} \\xi sin(\\alpha \\frac{\\pi}{2}),$$\n",
    "\n",
    "with the natural frequency of the mass-spring elements $\\omega_{n} = \\sqrt{G_{0}/M}$ and the dimensionless damping ratio that describes the overall power-law dissipative behaviour in the system $\\xi = V / \\sqrt{M^{\\alpha} G_{0}^{2-\\alpha}}$. \n",
    "\n",
    "chrome-extension://efaidnbmnnnibpcajpcglclefindmkaj/https://arxiv.org/pdf/1805.07987"
   ]
  },
  {
   "cell_type": "code",
   "execution_count": 21,
   "metadata": {},
   "outputs": [
    {
     "data": {
      "image/png": "[encoded data removed]",
      "text/plain": [
       "<Figure size 432x288 with 1 Axes>"
      ]
     },
     "metadata": {
      "needs_background": "light"
     },
     "output_type": "display_data"
    }
   ],
   "source": [
    "w=[0.1, 0.2, 0.3, 0.4, 0.5, 0.6, 0.7, 0.8, 0.9, 1, 2, 3, 4, 5, 6, 7, 8, 9, 10, 20] \n",
    "SM=[]\n",
    "LM=[]\n",
    "\n",
    "#variables \n",
    "G0=80 #stiffness \n",
    "M=1 #mass \n",
    "alpha=0.5\n",
    "V=1 \n",
    "\n",
    "def DEFwn(G0, M): \n",
    "    return (math.sqrt(G0/M))\n",
    "\n",
    "def DEFxi(V, M, G0): \n",
    "    return (V/(math.sqrt((M**(alpha))*(G0**(2-alpha)))))\n",
    "\n",
    "for i in w: #frequency is w \n",
    "    SM.append(G0*(1 - ((i/ DEFwn(G0,M))**2) + ((i/ DEFwn(G0,M))**alpha)*DEFxi(V, M, G0)*math.cos(alpha*math.pi*0.5)))\n",
    "    LM.append(G0*((i/ DEFwn(G0,M))**alpha)*DEFxi(V, M, G0)*math.sin(alpha*math.pi*0.5))\n",
    "    \n",
    "#Plot SM and LM \n",
    "\n",
    "fig, ax = plt.subplots()\n",
    "\n",
    "ax.plot(w, SM, '-', label='SM', color='#629B92') \n",
    "ax.plot(w, LM, '--', label='LM', color='#629B92')\n",
    "\n",
    "\n",
    "#Grid line\n",
    "ax.grid(which = \"major\", linewidth = 1)\n",
    "ax.grid(which = \"minor\", linewidth = 0.2)\n",
    "ax.minorticks_on()\n",
    "\n",
    "ax.set_xscale('log') #Set to log scale \n",
    "ax.set_yscale('log') #Set to log scale \n",
    "\n",
    "#Labels\n",
    "plt.xlabel(\"Frequency $\\omega $\") \n",
    "plt.ylabel(\"Moduli $G'$ $G''$\") \n",
    "\n",
    "#Legend\n",
    "ax.legend(loc='lower center', bbox_to_anchor=(0.5, 1.13), ncol=3, fancybox=True, shadow=True)\n",
    "\n",
    "\n",
    "plt.title('Optimal windowed chirp protocol')\n",
    "\n",
    "plt.show()"
   ]
  },
  {
   "cell_type": "markdown",
   "metadata": {},
   "source": [
    "#### Hierarchical analogues to fractional relaxation equations \n",
    "\n",
    "Finite mechanical ladder arrangement \n",
    "\n",
    "\n",
    "$$\\sigma = \\eta_{0}^{\\alpha} E^{1-\\alpha} \\frac{d^{\\alpha}\\epsilon}{dt^{\\alpha}}$$\n",
    "\n",
    "$$G' = \\eta_{0}^{\\alpha} E_{0}^{1-\\alpha} (\\omega \\tau)^{\\alpha} cos(\\frac{\\pi \\alpha}{2})$$\n",
    "\n",
    "$$G'' = \\eta_{0}^{\\alpha} E_{0}^{1-\\alpha} (\\omega \\tau) sin(\\frac{\\pi \\alpha}{2})$$\n"
   ]
  },
  {
   "cell_type": "code",
   "execution_count": 29,
   "metadata": {},
   "outputs": [],
   "source": [
    "def storage(w, eta0, E0, t, alpha): \n",
    "    G= (eta0**alpha) * (E0** (1-alpha)) * ((w * t)** alpha)  * math.cos((math.pi * alpha)/2)\n",
    "    return G \n",
    "\n",
    "def loss(w, eta0, E0, t, alpha): \n",
    "    G= (eta0**alpha) * (E0** (1-alpha)) * (w * t) * math.sin((math.pi * alpha)/2)\n",
    "    return G"
   ]
  }
 ],
 "metadata": {
  "kernelspec": {
   "display_name": "Python 3",
   "language": "python",
   "name": "python3"
  },
  "language_info": {
   "codemirror_mode": {
    "name": "ipython",
    "version": 3
   },
   "file_extension": ".py",
   "mimetype": "text/x-python",
   "name": "python",
   "nbconvert_exporter": "python",
   "pygments_lexer": "ipython3",
   "version": "3.8.5"
  }
 },
 "nbformat": 4,
 "nbformat_minor": 4
}
